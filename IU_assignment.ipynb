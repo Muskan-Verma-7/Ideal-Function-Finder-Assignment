{
 "cells": [
  {
   "cell_type": "code",
   "execution_count": 1,
   "metadata": {},
   "outputs": [],
   "source": [
    "import pandas as pd\n",
    "import numpy as np"
   ]
  },
  {
   "cell_type": "code",
   "execution_count": 2,
   "metadata": {},
   "outputs": [
    {
     "data": {
      "text/html": [
       "<div>\n",
       "<style scoped>\n",
       "    .dataframe tbody tr th:only-of-type {\n",
       "        vertical-align: middle;\n",
       "    }\n",
       "\n",
       "    .dataframe tbody tr th {\n",
       "        vertical-align: top;\n",
       "    }\n",
       "\n",
       "    .dataframe thead th {\n",
       "        text-align: right;\n",
       "    }\n",
       "</style>\n",
       "<table border=\"1\" class=\"dataframe\">\n",
       "  <thead>\n",
       "    <tr style=\"text-align: right;\">\n",
       "      <th></th>\n",
       "      <th>x</th>\n",
       "      <th>y1</th>\n",
       "      <th>y2</th>\n",
       "      <th>y3</th>\n",
       "      <th>y4</th>\n",
       "    </tr>\n",
       "  </thead>\n",
       "  <tbody>\n",
       "    <tr>\n",
       "      <th>0</th>\n",
       "      <td>-20.0</td>\n",
       "      <td>-45.292340</td>\n",
       "      <td>-15999.796</td>\n",
       "      <td>99.529580</td>\n",
       "      <td>899.82750</td>\n",
       "    </tr>\n",
       "    <tr>\n",
       "      <th>1</th>\n",
       "      <td>-19.9</td>\n",
       "      <td>-44.364960</td>\n",
       "      <td>-15761.017</td>\n",
       "      <td>99.895670</td>\n",
       "      <td>893.42740</td>\n",
       "    </tr>\n",
       "    <tr>\n",
       "      <th>2</th>\n",
       "      <td>-19.8</td>\n",
       "      <td>-44.565968</td>\n",
       "      <td>-15524.681</td>\n",
       "      <td>98.855780</td>\n",
       "      <td>887.16046</td>\n",
       "    </tr>\n",
       "    <tr>\n",
       "      <th>3</th>\n",
       "      <td>-19.7</td>\n",
       "      <td>-44.762450</td>\n",
       "      <td>-15290.500</td>\n",
       "      <td>98.126100</td>\n",
       "      <td>881.44870</td>\n",
       "    </tr>\n",
       "    <tr>\n",
       "      <th>4</th>\n",
       "      <td>-19.6</td>\n",
       "      <td>-44.188698</td>\n",
       "      <td>-15058.586</td>\n",
       "      <td>97.511475</td>\n",
       "      <td>875.37726</td>\n",
       "    </tr>\n",
       "  </tbody>\n",
       "</table>\n",
       "</div>"
      ],
      "text/plain": [
       "      x         y1         y2         y3         y4\n",
       "0 -20.0 -45.292340 -15999.796  99.529580  899.82750\n",
       "1 -19.9 -44.364960 -15761.017  99.895670  893.42740\n",
       "2 -19.8 -44.565968 -15524.681  98.855780  887.16046\n",
       "3 -19.7 -44.762450 -15290.500  98.126100  881.44870\n",
       "4 -19.6 -44.188698 -15058.586  97.511475  875.37726"
      ]
     },
     "execution_count": 2,
     "metadata": {},
     "output_type": "execute_result"
    }
   ],
   "source": [
    "train_df = pd.read_csv(\"D:\\MS Data Science\\Programming with Python\\dataset/train.csv\")\n",
    "train_df.head()"
   ]
  },
  {
   "cell_type": "code",
   "execution_count": 3,
   "metadata": {},
   "outputs": [
    {
     "data": {
      "text/plain": [
       "(400, 51)"
      ]
     },
     "execution_count": 3,
     "metadata": {},
     "output_type": "execute_result"
    }
   ],
   "source": [
    "ideal_df = pd.read_csv(\"D:\\MS Data Science\\Programming with Python\\dataset/ideal.csv\")\n",
    "ideal_df.shape"
   ]
  },
  {
   "cell_type": "code",
   "execution_count": 4,
   "metadata": {},
   "outputs": [
    {
     "name": "stdout",
     "output_type": "stream",
     "text": [
      "(400,)\n",
      "(400,)\n",
      "(400,)\n",
      "(400,)\n"
     ]
    }
   ],
   "source": [
    "# Create a list to store the deviations\n",
    "deviations = []\n",
    "\n",
    "# Iterate over the columns in the training dataset (excluding 'x')\n",
    "for col in train_df.columns[1:]:\n",
    "    # Create a list to store the deviations for the current column\n",
    "    col_deviations = []\n",
    "    \n",
    "    # Iterate over the ideal columns\n",
    "    for ideal_col in ideal_df.columns[1:]:\n",
    "        # Calculate the deviation using least squares\n",
    "        deviation = np.sum((train_df[col] - ideal_df[ideal_col]) ** 2)\n",
    "        \n",
    "        # Append the deviation to the list\n",
    "        col_deviations.append(deviation)\n",
    "    \n",
    "    # Store the deviations for the current column\n",
    "    deviations.append(col_deviations)\n",
    "    #print(type(train_df[col]))\n",
    "    #print(train_df[col].shape)\n",
    "    print(ideal_df[ideal_col].shape)\n",
    "\n",
    "# Convert the deviations to a NumPy array\n",
    "deviations = np.array(deviations)"
   ]
  },
  {
   "cell_type": "code",
   "execution_count": 6,
   "metadata": {},
   "outputs": [
    {
     "name": "stdout",
     "output_type": "stream",
     "text": [
      "Ideal function for y1 is y13\n",
      "Deviation : 34.08070758146571\n",
      "\n",
      "Ideal function for y2 is y24\n",
      "Deviation : 33.45176095311642\n",
      "\n",
      "Ideal function for y3 is y36\n",
      "Deviation : 35.57270039576923\n",
      "\n",
      "Ideal function for y4 is y40\n",
      "Deviation : 34.998874813202264\n",
      "\n",
      "  Training Dataset Ideal Function  Deviation\n",
      "0               y1            y13  34.080708\n",
      "1               y2            y24  33.451761\n",
      "2               y3            y36  35.572700\n",
      "3               y4            y40  34.998875\n"
     ]
    },
    {
     "data": {
      "text/plain": [
       "'for i, col in enumerate(train_df.columns[1:]):\\n    print(f\"Ideal function for {col}: {ideal_functions[i]}\")'"
      ]
     },
     "execution_count": 6,
     "metadata": {},
     "output_type": "execute_result"
    }
   ],
   "source": [
    "# Find the indices of the ideal functions with the least deviation for each column\n",
    "min_deviation_indices = np.argmin(deviations, axis=1)\n",
    "\n",
    "# Extract the corresponding column names of the ideal functions\n",
    "ideal_functions = ideal_df.columns[min_deviation_indices + 1]\n",
    "\n",
    "# Print the ideal functions for each column\n",
    "best_ideal_function = []\n",
    "min_deviation = []\n",
    "for i, col in enumerate(train_df.columns[1:]):\n",
    "    ideal_function = ideal_functions[i]\n",
    "    best_ideal_function.append(ideal_function)\n",
    "    deviation = deviations[i, min_deviation_indices[i]]\n",
    "    min_deviation.append(deviation)\n",
    "\n",
    "    print(f\"Ideal function for {col} is {ideal_function}\")\n",
    "    print(f\"Deviation : {deviation}\")\n",
    "    print()\n",
    "\n",
    "data = {\n",
    "        \"Training Dataset\": train_df.columns[1:],\n",
    "        \"Ideal Function\": best_ideal_function,\n",
    "        \"Deviation\": min_deviation,\n",
    "    }\n",
    "df_output = pd.DataFrame(data)\n",
    "print(df_output)    \n",
    "'''for i, col in enumerate(train_df.columns[1:]):\n",
    "    print(f\"Ideal function for {col}: {ideal_functions[i]}\")'''"
   ]
  },
  {
   "cell_type": "code",
   "execution_count": null,
   "metadata": {},
   "outputs": [
    {
     "data": {
      "text/html": [
       "<div>\n",
       "<style scoped>\n",
       "    .dataframe tbody tr th:only-of-type {\n",
       "        vertical-align: middle;\n",
       "    }\n",
       "\n",
       "    .dataframe tbody tr th {\n",
       "        vertical-align: top;\n",
       "    }\n",
       "\n",
       "    .dataframe thead th {\n",
       "        text-align: right;\n",
       "    }\n",
       "</style>\n",
       "<table border=\"1\" class=\"dataframe\">\n",
       "  <thead>\n",
       "    <tr style=\"text-align: right;\">\n",
       "      <th></th>\n",
       "      <th>x</th>\n",
       "      <th>y</th>\n",
       "    </tr>\n",
       "  </thead>\n",
       "  <tbody>\n",
       "    <tr>\n",
       "      <th>0</th>\n",
       "      <td>-13.1</td>\n",
       "      <td>-4494.980000</td>\n",
       "    </tr>\n",
       "    <tr>\n",
       "      <th>1</th>\n",
       "      <td>3.4</td>\n",
       "      <td>78.957020</td>\n",
       "    </tr>\n",
       "    <tr>\n",
       "      <th>2</th>\n",
       "      <td>11.1</td>\n",
       "      <td>2.493696</td>\n",
       "    </tr>\n",
       "    <tr>\n",
       "      <th>3</th>\n",
       "      <td>1.9</td>\n",
       "      <td>-7730.091300</td>\n",
       "    </tr>\n",
       "    <tr>\n",
       "      <th>4</th>\n",
       "      <td>-14.0</td>\n",
       "      <td>13840.699000</td>\n",
       "    </tr>\n",
       "  </tbody>\n",
       "</table>\n",
       "</div>"
      ],
      "text/plain": [
       "      x             y\n",
       "0 -13.1  -4494.980000\n",
       "1   3.4     78.957020\n",
       "2  11.1      2.493696\n",
       "3   1.9  -7730.091300\n",
       "4 -14.0  13840.699000"
      ]
     },
     "execution_count": 6,
     "metadata": {},
     "output_type": "execute_result"
    }
   ],
   "source": [
    "test_df = pd.read_csv(\"D:\\MS Data Science\\Programming with Python\\dataset/test.csv\")\n",
    "test_df.head()"
   ]
  },
  {
   "cell_type": "code",
   "execution_count": null,
   "metadata": {},
   "outputs": [],
   "source": [
    "x_test = test_df[\"x\"]\n",
    "x_ideal = ideal_df[\"x\"]"
   ]
  },
  {
   "cell_type": "code",
   "execution_count": null,
   "metadata": {},
   "outputs": [
    {
     "name": "stdout",
     "output_type": "stream",
     "text": [
      "{-0.7, 1.9, 1.5, 3.4, 3.1, 4.1, 6.2, 7.6, 8.8, 9.1, 9.9, 11.1, 10.9, 8.9, 14.6, 15.6, 12.4, 17.6, 15.7, 19.4, 18.2, 13.8, 15.1, 15.5, 18.8, -13.1, -9.1, -4.1, 3.9, -0.3, 0.2, 4.4, -5.7, -2.7, -12.8, 2.8, -10.3, -9.3, -9.7, -8.7, 6.3, 7.3, -0.4, 0.9, -7.8, -7.3, -5.3, -4.3, 9.8, 10.3, 1.7, -2.3, -14.9, 12.3, 12.2, 13.2, 14.7, 2.7, 4.2, -0.2, 1.6, -18.5, 8.1, 13.6, -11.0, -19.4, -18.6, -19.5, -16.5, -16.9, -15.7, -14.2, -14.0, -17.5, -10.8, -10.2, -14.6, -13.8, -13.5, -5.9, -11.4, -2.5, -2.8, -1.6}\n",
      "There are 84 common values.\n"
     ]
    }
   ],
   "source": [
    "common_values = set(x_test).intersection(set(x_ideal))\n",
    "\n",
    "num_common_values = len(common_values)\n",
    "\n",
    "print(common_values)\n",
    "\n",
    "print(f\"There are {num_common_values} common values.\")"
   ]
  },
  {
   "cell_type": "code",
   "execution_count": null,
   "metadata": {},
   "outputs": [],
   "source": []
  }
 ],
 "metadata": {
  "kernelspec": {
   "display_name": "Python 3",
   "language": "python",
   "name": "python3"
  },
  "language_info": {
   "codemirror_mode": {
    "name": "ipython",
    "version": 3
   },
   "file_extension": ".py",
   "mimetype": "text/x-python",
   "name": "python",
   "nbconvert_exporter": "python",
   "pygments_lexer": "ipython3",
   "version": "3.11.1"
  },
  "orig_nbformat": 4
 },
 "nbformat": 4,
 "nbformat_minor": 2
}
